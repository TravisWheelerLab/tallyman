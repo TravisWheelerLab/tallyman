{
 "cells": [
  {
   "cell_type": "markdown",
   "source": [
    "# Hash Collisions\n",
    "\n",
    "Estimating the rate of hash collisions (probe length) based on\n",
    "32-mers that look more or less like our DCE sequences. We can\n",
    "also run this same experiment against the actual DCE sequences."
   ],
   "metadata": {
    "collapsed": false,
    "pycharm": {
     "name": "#%% md\n"
    }
   }
  },
  {
   "cell_type": "code",
   "execution_count": 6,
   "metadata": {
    "collapsed": true
   },
   "outputs": [],
   "source": [
    "import math\n",
    "import random\n",
    "from typing import Iterator, List, Set\n",
    "\n",
    "\n",
    "_used_k_mers: Set[int] = {0}\n",
    "\n",
    "\n",
    "_nucleotide_replacements = {\n",
    "    \"A\": 0b00,\n",
    "    \"T\": 0b01,\n",
    "    \"C\": 0b10,\n",
    "    \"G\": 0b11,\n",
    "}\n",
    "\n",
    "\n",
    "def random_32_mer() -> int:\n",
    "    k_mer = 0\n",
    "    while k_mer in _used_k_mers:\n",
    "        k_mer = random.randint(1, 0xFFFFFFFFFFFFFFFF)\n",
    "    return k_mer\n",
    "\n",
    "\n",
    "def next_prime(value: int) -> int:\n",
    "    def is_prime(candidate: int) -> bool:\n",
    "        for i in range(2, math.ceil(math.sqrt(candidate))):\n",
    "            if candidate % i == 0:\n",
    "                return True\n",
    "        return False\n",
    "\n",
    "    next_value = value\n",
    "    while not is_prime(next_value):\n",
    "        next_value += 1\n",
    "\n",
    "    return next_value\n",
    "\n",
    "\n",
    "def bit_compress(sequence: str) -> int:\n",
    "    compressed = 0\n",
    "    for char in sequence:\n",
    "        compressed = (compressed << 2) | _nucleotide_replacements[char]\n",
    "    return compressed\n",
    "\n",
    "\n",
    "def update_bit_compress(seq: int, char: str) -> int:\n",
    "    return (seq << 2) | _nucleotide_replacements[char]\n",
    "\n",
    "\n",
    "def dce_sequences_from_fasta(filename) -> List[int]:\n",
    "    seq: List[int] = []\n",
    "    with open(filename, \"r\") as fasta:\n",
    "        for line in fasta:\n",
    "            if line.startswith(\">\"):\n",
    "                continue\n",
    "            compressed = bit_compress(line.strip().upper())\n",
    "            seq.append(compressed)\n",
    "    return seq\n",
    "\n",
    "# TODO: Slide the window to optimize (don't re-compress)\n",
    "def rna_sequences_from_fasta(filename) -> Iterator[int]:\n",
    "    with open(filename, \"r\") as fasta:\n",
    "        current = \"\"\n",
    "        for line in fasta:\n",
    "            if line.startswith(\">\"):\n",
    "                continue\n",
    "\n",
    "            current += line.strip().upper()\n",
    "\n",
    "            if len(current) < 32:\n",
    "                continue\n",
    "\n",
    "            for i in range(len(current) - 32):\n",
    "                try:\n",
    "                    yield bit_compress(current[i:i + 32])\n",
    "                except KeyError:\n",
    "                    pass\n",
    "\n",
    "            current = current[-31:]\n"
   ]
  },
  {
   "cell_type": "markdown",
   "source": [
    "Load the DCE sequences we want to search for and count."
   ],
   "metadata": {
    "collapsed": false,
    "pycharm": {
     "name": "#%% md\n"
    }
   }
  },
  {
   "cell_type": "code",
   "execution_count": 7,
   "outputs": [],
   "source": [
    "dce_sequences = dce_sequences_from_fasta(\"dce-sequences.fasta\")\n",
    "\n",
    "# Hash table multiplier, larger values use more memory but are\n",
    "# less likely to suffer collisions.\n",
    "Q = 2\n",
    "\n",
    "# Total number of 32-mers\n",
    "M = len(dce_sequences)\n",
    "\n",
    "# Capacity of hash table\n",
    "N = next_prime(Q * M)\n",
    "\n",
    "# Build the hash table that we'll use for lookups later\n",
    "hash_table = [0 for _ in range(N)]\n",
    "for k_mer in dce_sequences:\n",
    "    hash_index = k_mer % N\n",
    "\n",
    "    while hash_table[hash_index] > 0 and hash_table[hash_index] != k_mer:\n",
    "        hash_index = (hash_index + 1) % N\n",
    "\n",
    "    hash_table[hash_index] = k_mer"
   ],
   "metadata": {
    "collapsed": false,
    "pycharm": {
     "name": "#%%\n"
    }
   }
  },
  {
   "cell_type": "markdown",
   "source": [
    "Now we run through a bunch of 32-mers and count matches to one of\n",
    "the DCE sequences. We can use either random sequences or actual\n",
    "human RNA sequences, concatenated together."
   ],
   "metadata": {
    "collapsed": false,
    "pycharm": {
     "name": "#%% md\n"
    }
   }
  },
  {
   "cell_type": "code",
   "execution_count": 8,
   "outputs": [],
   "source": [
    "# Human RNA sequences\n",
    "sequences = rna_sequences_from_fasta(\"largey.fasta\")\n",
    "\n",
    "# Random sequences, uncomment to use\n",
    "# K = 1_000_000 # Number of lookups to benchmark\n",
    "# sequences = (random_32_mer() for _ in range(K))\n",
    "\n",
    "collisions: List[int] = []\n",
    "for i, k_mer in enumerate(sequences):\n",
    "    collisions.append(0)\n",
    "    hash_index = k_mer % N\n",
    "\n",
    "    while hash_table[hash_index] > 0 and hash_table[hash_index] != k_mer:\n",
    "        hash_index = (hash_index + 1) % N\n",
    "        collisions[i] += 1\n",
    "\n",
    "    # is_present = hash_table[hash_index] == k_mer"
   ],
   "metadata": {
    "collapsed": false,
    "pycharm": {
     "name": "#%%\n"
    }
   }
  },
  {
   "cell_type": "markdown",
   "source": [
    "### Cumulative Probe Length\n",
    "\n",
    "The x-axis is the index of the DCE sequence in the total number of sequences\n",
    "added to the hash table (starting from 0). The value is the total number of\n",
    "probe steps required for all sequences up to that point. If there were zero\n",
    "collisions then this plot would contain all zeroes."
   ],
   "metadata": {
    "collapsed": false,
    "pycharm": {
     "name": "#%% md\n"
    }
   }
  },
  {
   "cell_type": "code",
   "execution_count": 9,
   "outputs": [
    {
     "data": {
      "text/plain": "<Figure size 432x288 with 1 Axes>",
      "image/png": "[encoded data removed]"
     },
     "metadata": {
      "needs_background": "light"
     },
     "output_type": "display_data"
    }
   ],
   "source": [
    "import numpy\n",
    "import matplotlib.pyplot as plt\n",
    "\n",
    "sums = numpy.cumsum(collisions)\n",
    "plt.plot(range(len(collisions)), sums)\n",
    "plt.box(False);"
   ],
   "metadata": {
    "collapsed": false,
    "pycharm": {
     "name": "#%%\n"
    }
   }
  },
  {
   "cell_type": "markdown",
   "source": [
    "### Histogram of Probe Length\n",
    "\n",
    "Number of failed probe attempts before an empty slot in the hash table was\n",
    "found. Zero means that the first attempt, the \"true\" hash index value,\n",
    "succeeded."
   ],
   "metadata": {
    "collapsed": false,
    "pycharm": {
     "name": "#%% md\n"
    }
   }
  },
  {
   "cell_type": "code",
   "execution_count": 10,
   "outputs": [
    {
     "data": {
      "text/plain": "<Figure size 432x288 with 1 Axes>",
      "image/png": "[encoded data removed]"
     },
     "metadata": {
      "needs_background": "light"
     },
     "output_type": "display_data"
    }
   ],
   "source": [
    "import matplotlib.pyplot as plt\n",
    "\n",
    "plt.hist(collisions)\n",
    "plt.box(False);\n"
   ],
   "metadata": {
    "collapsed": false,
    "pycharm": {
     "name": "#%%\n"
    }
   }
  }
 ],
 "metadata": {
  "kernelspec": {
   "display_name": "Python 3",
   "language": "python",
   "name": "python3"
  },
  "language_info": {
   "codemirror_mode": {
    "name": "ipython",
    "version": 2
   },
   "file_extension": ".py",
   "mimetype": "text/x-python",
   "name": "python",
   "nbconvert_exporter": "python",
   "pygments_lexer": "ipython2",
   "version": "2.7.6"
  }
 },
 "nbformat": 4,
 "nbformat_minor": 0
}